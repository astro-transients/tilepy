{
 "cells": [
  {
   "cell_type": "code",
   "execution_count": 1,
   "id": "cfb68f4e-6d80-4b7c-b7b3-85ef3ebd82d7",
   "metadata": {},
   "outputs": [
    {
     "name": "stderr",
     "output_type": "stream",
     "text": [
      "/Users/md274436/software/miniforge3/envs/tilepy/lib/python3.11/site-packages/ligo/lw/lsctables.py:89: UserWarning: Wswiglal-redir-stdio:\n",
      "\n",
      "SWIGLAL standard output/error redirection is enabled in IPython.\n",
      "This may lead to performance penalties. To disable locally, use:\n",
      "\n",
      "with lal.no_swig_redirect_standard_output_error():\n",
      "    ...\n",
      "\n",
      "To disable globally, use:\n",
      "\n",
      "lal.swig_redirect_standard_output_error(False)\n",
      "\n",
      "Note however that this will likely lead to error messages from\n",
      "LAL functions being either misdirected or lost when called from\n",
      "Jupyter notebooks.\n",
      "\n",
      "To suppress this warning, use:\n",
      "\n",
      "import warnings\n",
      "warnings.filterwarnings(\"ignore\", \"Wswiglal-redir-stdio\")\n",
      "import lal\n",
      "\n",
      "  import lal\n",
      "/Users/md274436/software/miniforge3/envs/tilepy/lib/python3.11/site-packages/tqdm/auto.py:21: TqdmWarning: IProgress not found. Please update jupyter and ipywidgets. See https://ipywidgets.readthedocs.io/en/stable/user_install.html\n",
      "  from .autonotebook import tqdm as notebook_tqdm\n"
     ]
    }
   ],
   "source": [
    "import datetime\n",
    "\n",
    "from tilepy.include.ObservationScheduler import GetUniversalSchedule\n",
    "from tilepy.include.PointingTools import ObservationParameters"
   ]
  },
  {
   "attachments": {},
   "cell_type": "markdown",
   "id": "8b2dfeb0",
   "metadata": {},
   "source": [
    "Sets of inputs needed to run the code "
   ]
  },
  {
   "cell_type": "code",
   "execution_count": 2,
   "id": "8879b037-7d01-41b7-9e57-68488159878b",
   "metadata": {},
   "outputs": [],
   "source": [
    "# Path to the input datasets (where galaxy cat should be for GW case)\n",
    "datasetDir = \"../../tilepy/dataset/\"\n",
    "\n",
    "# Path to the output folder\n",
    "outDir = \"./output\"\n",
    "\n",
    "# Config file for the tiling scheduling\n",
    "# cfgFile = '../obsConfig/FollowupParameters.ini'\n",
    "\n",
    "# Galaxy catalog name (if no catalog is given, the approach will be 2D) only. Path is given in datasetDir\n",
    "galcatName = \"Gladeplus.h5\"\n",
    "\n",
    "# Tiles already observed\n",
    "pointingsFile = None"
   ]
  },
  {
   "attachments": {},
   "cell_type": "markdown",
   "id": "b5aa1f0e",
   "metadata": {},
   "source": [
    "Please choose one of the following maps, dates and obseratory arrays to launch the scheduler\n",
    "- The url to the FITS file with the sky localization, e.g.for GW https://urlpath/Bayestar.fits.gz'\n",
    "- Date and time of the event in format YYYY-MM-DD HH:MM:SS. You can use 2023-07-15 14:30:10 for the example .fits file\n",
    "- Observatory array as a list"
   ]
  },
  {
   "cell_type": "code",
   "execution_count": 3,
   "id": "c4230808",
   "metadata": {},
   "outputs": [],
   "source": [
    "# GW follow-up: Multi-observatory campaign from the Northern and Southern hemisphere using the FoV-integrated 3-dimensional strategy\n",
    "url = \"https://dcc.ligo.org/public/0119/P1500071/007/927563_lalinference.fits.gz\"\n",
    "obsTime = datetime.datetime.fromisoformat(\"2023-03-15T20:51:47\")\n",
    "ObsArray = [\"CTAON\", \"CTAOS\"]"
   ]
  },
  {
   "cell_type": "code",
   "execution_count": 4,
   "id": "1bf5fe41",
   "metadata": {},
   "outputs": [],
   "source": [
    "# Very poorly localized Fermi-GBM GRB: Multi-telescope campaign at one site\n",
    "skymap = \"https://heasarc.gsfc.nasa.gov/FTP/fermi/data/gbm/triggers/2023/bn231012231/quicklook/glg_healpix_all_bn231012231.fit\"\n",
    "obsTime = datetime.datetime.fromisoformat(\"2023-10-12T20:42:18\")\n",
    "ObsArray = [\"LST1\", \"LST2\", \"LST3\", \"LST4\"]"
   ]
  },
  {
   "cell_type": "code",
   "execution_count": 5,
   "id": "91c7eb1e",
   "metadata": {},
   "outputs": [],
   "source": [
    "# IPN GRB follow-up: Single narrow FoV radio telescope in the Southern Hemisphere\n",
    "skymap = \"https://www.ioffe.ru/LEA/ShortGRBs_IPN/data/20120612T59382/GRB20120612_T59382_IPN_map_hpx.fits.gz\"\n",
    "obsTime = datetime.datetime.fromisoformat(\"2017-08-17T10:30:10\")\n",
    "ObsArray = [\"ATCA\"]"
   ]
  },
  {
   "cell_type": "code",
   "execution_count": 6,
   "id": "85be930a",
   "metadata": {},
   "outputs": [],
   "source": [
    "# GW follow-up: Multi optical observatory campaign around the globe\n",
    "skymap = (\n",
    "    \"https://gracedb.ligo.org/api/superevents/S190814bv/files/LALInference.v1.fits.gz\"\n",
    ")\n",
    "obsTime = datetime.datetime.fromisoformat(\"2023-09-15T01:30:10\")\n",
    "ObsArray = [\"ESO\", \"ESO2\", \"LP\", \"LPL\", \"OHP\", \"SA\", \"HA\"]"
   ]
  },
  {
   "attachments": {},
   "cell_type": "markdown",
   "id": "b28e2d6b",
   "metadata": {},
   "source": [
    "Proceed with each cell "
   ]
  },
  {
   "cell_type": "code",
   "execution_count": 7,
   "id": "3a0d2a96-9e20-4688-b14a-6f425af2dd0f",
   "metadata": {},
   "outputs": [
    {
     "name": "stdout",
     "output_type": "stream",
     "text": [
      "===========================================================================================\n",
      "parameters ['../config/FollowupParameters_ESO.ini', '../config/FollowupParameters_ESO2.ini', '../config/FollowupParameters_LP.ini', '../config/FollowupParameters_LPL.ini', '../config/FollowupParameters_OHP.ini', '../config/FollowupParameters_SA.ini', '../config/FollowupParameters_HA.ini']\n"
     ]
    }
   ],
   "source": [
    "# Config file for the tiling scheduling are in ../obsConfig/\n",
    "parameters = []\n",
    "for i in ObsArray:\n",
    "    parameters.append(\"../config/FollowupParameters_%s.ini\" % i)\n",
    "print(\n",
    "    \"===========================================================================================\"\n",
    ")\n",
    "print(\"parameters\", parameters)\n",
    "obsparameters = []"
   ]
  },
  {
   "cell_type": "code",
   "execution_count": 8,
   "id": "aa929f64-da3a-4180-a159-8ea231e8ccbb",
   "metadata": {},
   "outputs": [],
   "source": [
    "for j in range(len(parameters)):\n",
    "    obspar = ObservationParameters()\n",
    "    obspar.add_parsed_args(\n",
    "        skymap, obsTime, datasetDir, galcatName, outDir, pointingsFile\n",
    "    )\n",
    "    obspar.from_configfile(parameters[j])\n",
    "    obsparameters.append(obspar)"
   ]
  },
  {
   "attachments": {},
   "cell_type": "markdown",
   "id": "9b58e099",
   "metadata": {},
   "source": [
    "Run the scheduling"
   ]
  },
  {
   "cell_type": "code",
   "execution_count": null,
   "id": "9fd228c9-9758-4397-8841-7af1f50d6bb1",
   "metadata": {},
   "outputs": [
    {
     "name": "stderr",
     "output_type": "stream",
     "text": [
      "The file is already existing, it will be re-downloaded\n"
     ]
    },
    {
     "name": "stdout",
     "output_type": "stream",
     "text": [
      "===========================================================================================\n",
      "===========================================================================================\n",
      "Starting the 3D pointing calculation with the following parameters\n",
      "\n",
      "Filename:  undefined\n",
      "Date:  2023-09-15 01:30:10\n",
      "Catalog:  Gladeplus.h5\n",
      "Dataset:  ../../tilepy/dataset/\n",
      "Output:  ./output/undefined\n",
      "===========================================================================================\n",
      "\n",
      "obsparameters 7\n",
      "Loading galaxy catalogue from ../../tilepy/dataset/Gladeplus.h5\n",
      "No pointings were given to be substracted\n",
      "Condition met at 2023-09-15 01:30:10+00:00: dp/dV = 5.044033948979075e-11 is greater than 0.0005\n",
      "Condition met at 2023-09-15 01:30:10+00:00: dp/dV = 4.988244561090865e-11 is greater than 0.0005\n",
      "Condition met at 2023-09-15 01:30:10+00:00: dp/dV = 4.930157386953859e-11 is greater than 0.0005\n",
      "Condition met at 2023-09-15 01:30:10+00:00: dp/dV = 3.834671151483875e-12 is greater than 0.0005\n",
      "Condition met at 2023-09-15 01:35:10+00:00: dp/dV = 4.7334352928918094e-11 is greater than 0.0005\n",
      "Condition met at 2023-09-15 01:35:10+00:00: dp/dV = 4.6619300694265916e-11 is greater than 0.0005\n",
      "The total probability PGal:  0.1693\n",
      "The total probability PGW:  0.1411\n",
      "     Time[UTC]      RA(deg) DEC(deg)  PGW    Pgal  Round ObsName Duration FoV \n",
      "------------------- ------- -------- ------ ------ ----- ------- -------- ----\n",
      "2023-09-15 01:30:10 12.4239 -25.0508    0.0 0.0064     1     ESO        5 0.05\n",
      "2023-09-15 01:30:10 12.4058 -25.2676 0.0017 0.0125     1    ESO2        5 0.05\n",
      "2023-09-15 01:30:10 12.5417  -24.735 0.0035 0.0143     1      LP        5  0.1\n",
      "2023-09-15 01:30:10 13.1609 -25.6968 0.1293 0.1208     1     OHP       15  0.6\n",
      "2023-09-15 01:30:10 23.3867 -32.1844 0.0002 0.0005     1      SA        5 0.05\n",
      "2023-09-15 01:35:10  12.229 -25.0695 0.0016  0.006     1    ESO2        5 0.05\n",
      "2023-09-15 01:35:10 13.0993 -24.7357 0.0048 0.0088     1      LP        5  0.1\n",
      "\n",
      "Resulting pointings file is ./output/undefined/PGalinFoV_NObs/SuggestedPointings_GWOptimisation.txt\n",
      "     Time[UTC]      RA(deg) DEC(deg) PGW  Pgal  Round ObsName Duration FoV \n",
      "------------------- ------- -------- --- ------ ----- ------- -------- ----\n",
      "2023-09-15 01:30:10 12.4239 -25.0508 0.0 0.0064     1     ESO        5 0.05\n",
      "Loading pointings from ./output/undefined/PGalinFoV_NObs/SuggestedPointings_GWOptimisation_ESO.txt\n",
      "\n",
      "---------  RANKING THE OBSERVATIONS AND PRODUCING THE OUTPUT FILES   ----------\n",
      "\n",
      "./output/undefined/PGalinFoV_NObs\n",
      "Loading pointings from ./output/undefined/PGalinFoV_NObs/SuggestedPointings_GWOptimisation_ESO.txt\n",
      "----------   PLOTTING THE SCHEDULING   ----------\n",
      "Total covered probability with the scheduled tiles is PGW= 0.00000\n",
      "Plotting galaxies\n",
      "     Time[UTC]      RA(deg) DEC(deg)  PGW    Pgal  Round ObsName Duration FoV \n",
      "------------------- ------- -------- ------ ------ ----- ------- -------- ----\n",
      "2023-09-15 01:30:10 12.4058 -25.2676 0.0017 0.0125     1    ESO2        5 0.05\n",
      "2023-09-15 01:35:10  12.229 -25.0695 0.0016  0.006     1    ESO2        5 0.05\n",
      "Loading pointings from ./output/undefined/PGalinFoV_NObs/SuggestedPointings_GWOptimisation_ESO2.txt\n",
      "\n",
      "---------  RANKING THE OBSERVATIONS AND PRODUCING THE OUTPUT FILES   ----------\n",
      "\n",
      "./output/undefined/PGalinFoV_NObs\n",
      "Loading pointings from ./output/undefined/PGalinFoV_NObs/SuggestedPointings_GWOptimisation_ESO2.txt\n",
      "----------   PLOTTING THE SCHEDULING   ----------\n",
      "Total covered probability with the scheduled tiles is PGW= 0.00330\n",
      "Plotting galaxies\n",
      "     Time[UTC]      RA(deg) DEC(deg)  PGW    Pgal  Round ObsName Duration FoV\n",
      "------------------- ------- -------- ------ ------ ----- ------- -------- ---\n",
      "2023-09-15 01:30:10 12.5417  -24.735 0.0035 0.0143     1      LP        5 0.1\n",
      "2023-09-15 01:35:10 13.0993 -24.7357 0.0048 0.0088     1      LP        5 0.1\n",
      "Loading pointings from ./output/undefined/PGalinFoV_NObs/SuggestedPointings_GWOptimisation_LP.txt\n",
      "\n",
      "---------  RANKING THE OBSERVATIONS AND PRODUCING THE OUTPUT FILES   ----------\n",
      "\n",
      "./output/undefined/PGalinFoV_NObs\n",
      "Loading pointings from ./output/undefined/PGalinFoV_NObs/SuggestedPointings_GWOptimisation_LP.txt\n",
      "----------   PLOTTING THE SCHEDULING   ----------\n",
      "Total covered probability with the scheduled tiles is PGW= 0.00830\n",
      "Plotting galaxies\n",
      "Time[UTC] RA(deg) DEC(deg) PGW Pgal Round ObsName Duration FoV\n",
      "--------- ------- -------- --- ---- ----- ------- -------- ---\n",
      "     Time[UTC]      RA(deg) DEC(deg)  PGW    Pgal  Round ObsName Duration FoV\n",
      "------------------- ------- -------- ------ ------ ----- ------- -------- ---\n",
      "2023-09-15 01:30:10 13.1609 -25.6968 0.1293 0.1208     1     OHP       15 0.6\n",
      "Loading pointings from ./output/undefined/PGalinFoV_NObs/SuggestedPointings_GWOptimisation_OHP.txt\n",
      "\n",
      "---------  RANKING THE OBSERVATIONS AND PRODUCING THE OUTPUT FILES   ----------\n",
      "\n",
      "./output/undefined/PGalinFoV_NObs\n",
      "Loading pointings from ./output/undefined/PGalinFoV_NObs/SuggestedPointings_GWOptimisation_OHP.txt\n",
      "----------   PLOTTING THE SCHEDULING   ----------\n",
      "Total covered probability with the scheduled tiles is PGW= 0.12930\n",
      "Plotting galaxies\n",
      "     Time[UTC]      RA(deg) DEC(deg)  PGW    Pgal  Round ObsName Duration FoV \n",
      "------------------- ------- -------- ------ ------ ----- ------- -------- ----\n",
      "2023-09-15 01:30:10 23.3867 -32.1844 0.0002 0.0005     1      SA        5 0.05\n",
      "Loading pointings from ./output/undefined/PGalinFoV_NObs/SuggestedPointings_GWOptimisation_SA.txt\n",
      "\n",
      "---------  RANKING THE OBSERVATIONS AND PRODUCING THE OUTPUT FILES   ----------\n",
      "\n",
      "./output/undefined/PGalinFoV_NObs\n",
      "Loading pointings from ./output/undefined/PGalinFoV_NObs/SuggestedPointings_GWOptimisation_SA.txt\n",
      "----------   PLOTTING THE SCHEDULING   ----------\n",
      "Total covered probability with the scheduled tiles is PGW= 0.00020\n",
      "Plotting galaxies\n",
      "Time[UTC] RA(deg) DEC(deg) PGW Pgal Round ObsName Duration FoV\n",
      "--------- ------- -------- --- ---- ----- ------- -------- ---\n",
      "Loading pointings from ./output/undefined/PGalinFoV_NObs/SuggestedPointings_GWOptimisation.txt\n",
      "----------   PLOTTING THE SCHEDULING   ----------\n",
      "Total covered probability with the scheduled tiles is PGW= 0.14110\n"
     ]
    }
   ],
   "source": [
    "# Schedule for CTAON and CTAO\n",
    "GetUniversalSchedule(obsparameters)"
   ]
  },
  {
   "cell_type": "code",
   "execution_count": null,
   "id": "7794c922-b0a6-4025-8ef7-0d9a56913446",
   "metadata": {},
   "outputs": [],
   "source": []
  },
  {
   "attachments": {},
   "cell_type": "markdown",
   "id": "63ea2996",
   "metadata": {},
   "source": []
  }
 ],
 "metadata": {
  "kernelspec": {
   "display_name": "Python 3 (ipykernel)",
   "language": "python",
   "name": "python3"
  },
  "language_info": {
   "codemirror_mode": {
    "name": "ipython",
    "version": 3
   },
   "file_extension": ".py",
   "mimetype": "text/x-python",
   "name": "python",
   "nbconvert_exporter": "python",
   "pygments_lexer": "ipython3",
   "version": "3.11.10"
  },
  "vscode": {
   "interpreter": {
    "hash": "27b68d8d765e3bcc7497bdaa8796e67fcbf6255f91f21a56387fb4d1cc5ead39"
   }
  }
 },
 "nbformat": 4,
 "nbformat_minor": 5
}
