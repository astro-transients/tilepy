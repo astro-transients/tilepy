{
 "cells": [
  {
   "cell_type": "code",
   "execution_count": null,
   "id": "cfb68f4e-6d80-4b7c-b7b3-85ef3ebd82d7",
   "metadata": {},
   "outputs": [],
   "source": [
    "from tilepy.include.ObservationScheduler import GetUniversalSchedule, getdate\n",
    "from tilepy.include.PointingTools import ObservationParameters"
   ]
  },
  {
   "cell_type": "code",
   "execution_count": null,
   "id": "8879b037-7d01-41b7-9e57-68488159878b",
   "metadata": {},
   "outputs": [],
   "source": [
    "# Type of followup, options: gbm, gbmpng or gw\n",
    "alertType = \"gw\"\n",
    "\n",
    "# The url to the FITS file with the sky localization, e.g.for GW https://urlpath/Bayestar.fits.gz'\n",
    "skymap = \"https://gracedb.ligo.org/api/superevents/S190728q/files/GW190728_064510_PublicationSamples_flattened.fits.gz,0\"\n",
    "\n",
    "# Date and time of the event in format YYYY-MM-DD HH:MM:SS. You can use 2023-07-15 14:30:10 for the example .fits file\n",
    "obsTime = getdate(\"2023-07-27 01:30:10\")\n",
    "\n",
    "# Path to the input datasets (where galaxy cat should be for GW case)\n",
    "datasetDir = \"../../dataset/\"\n",
    "\n",
    "# Path to the output folder\n",
    "outDir = \"./output\"\n",
    "\n",
    "# Config file for the tiling scheduling\n",
    "# cfgFile = '../obsConfig/FollowupParameters.ini'\n",
    "\n",
    "# Galaxy catalog name (if no catalog is given, the approach will be 2D) only. Path is given in datasetDir\n",
    "galcatName = \"../../tilepy/dataset/Gladeplus.h5\"\n",
    "\n",
    "# Tiles already observed\n",
    "pointingsFile = None"
   ]
  },
  {
   "cell_type": "code",
   "execution_count": null,
   "id": "2ed6a64c-f98c-4c2d-9edf-cd1d38360f5e",
   "metadata": {},
   "outputs": [],
   "source": [
    "ObsArray = [\"SWIFT\"]\n",
    "parameters = []"
   ]
  },
  {
   "cell_type": "code",
   "execution_count": null,
   "id": "3a0d2a96-9e20-4688-b14a-6f425af2dd0f",
   "metadata": {},
   "outputs": [],
   "source": [
    "# Config file for the tiling scheduling\n",
    "for i in ObsArray:\n",
    "    parameters.append(\"../config/FollowupParameters_%s.ini\" % i)\n",
    "print(\n",
    "    \"===========================================================================================\"\n",
    ")\n",
    "print(\"parameters\", parameters)\n",
    "obsparameters = []"
   ]
  },
  {
   "cell_type": "code",
   "execution_count": null,
   "id": "aa929f64-da3a-4180-a159-8ea231e8ccbb",
   "metadata": {},
   "outputs": [],
   "source": [
    "for j in range(len(parameters)):\n",
    "    obspar = ObservationParameters()\n",
    "    obspar.add_parsed_args(\n",
    "        skymap, obsTime, datasetDir, galcatName, outDir, pointingsFile, alertType\n",
    "    )\n",
    "    obspar.from_configfile(parameters[j])\n",
    "    obsparameters.append(obspar)\n",
    "    print(\"obsparameters.base\", obsparameters[0].base)"
   ]
  },
  {
   "cell_type": "code",
   "execution_count": null,
   "id": "9fd228c9-9758-4397-8841-7af1f50d6bb1",
   "metadata": {},
   "outputs": [],
   "source": [
    "GetUniversalSchedule(obsparameters)"
   ]
  },
  {
   "cell_type": "code",
   "execution_count": null,
   "id": "ce2e0337",
   "metadata": {},
   "outputs": [],
   "source": []
  },
  {
   "cell_type": "code",
   "execution_count": null,
   "id": "dfeccc78",
   "metadata": {},
   "outputs": [],
   "source": []
  }
 ],
 "metadata": {
  "kernelspec": {
   "display_name": "Python 3.9.0 ('tilepyenv_1')",
   "language": "python",
   "name": "python3"
  },
  "language_info": {
   "codemirror_mode": {
    "name": "ipython",
    "version": 3
   },
   "file_extension": ".py",
   "mimetype": "text/x-python",
   "name": "python",
   "nbconvert_exporter": "python",
   "pygments_lexer": "ipython3",
   "version": "3.11.9"
  },
  "vscode": {
   "interpreter": {
    "hash": "27b68d8d765e3bcc7497bdaa8796e67fcbf6255f91f21a56387fb4d1cc5ead39"
   }
  }
 },
 "nbformat": 4,
 "nbformat_minor": 5
}
