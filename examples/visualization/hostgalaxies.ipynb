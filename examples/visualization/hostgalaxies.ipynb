{
 "cells": [
  {
   "cell_type": "code",
   "execution_count": 60,
   "metadata": {},
   "outputs": [],
   "source": [
    "# This code follows is a modified version of the tutorial from ligo.skymap\n",
    "from astropy.coordinates import SkyCoord"
   ]
  },
  {
   "cell_type": "code",
   "execution_count": 81,
   "metadata": {},
   "outputs": [
    {
     "name": "stdout",
     "output_type": "stream",
     "text": [
      "============== Observation Parameters ======================\n",
      "Observatory Name: LST\n",
      "Event Name: None\n",
      "obsTime: 2025-03-28 19:10:00\n",
      "---------------------- Strategy ----------------------\n",
      "Algorithm = 3D, Strategy = integrated,  Mangrove = False\n",
      "Do Plot = True, Do Rank = True, Count Previous= True, Second Round= False, Use Grey Time= False\n",
      "--------------------- Observatory ---------------------\n",
      "Observatory Location: 28.761944 deg, -17.89 deg, 2200.0 m\n",
      "FOV: 2.5, Duration: 20.0, Min Duration: 10.0, Min Slewing: 0.0\n",
      "Max Runs: 4, Max Nights: 1\n",
      "Visibility: -18, -0.5, 65, 0\n",
      "Min Moon Source Separation: 30\n",
      "Max Moon Source Separation: 145\n",
      "Max Zenith: 70, Zenith Weighting: 0.75\n",
      "--------------------- Skymap considerations ----------------\n",
      "Skymap: https://gracedb.ligo.org/api/superevents/S240615dg/files/Bilby.offline0.multiorder.fits\n",
      "Cuts: MinProbcut 0.02, Dist Cut: 1000000, Minimum Prob Cut for Catalogue: 0.01\n",
      "Percentage MOC: 0.9\n",
      "NSIDE: HR = 512, reduced = 256\n",
      "--------------------- Directories and files ----------------\n",
      "DatasetDir: ../../src/tilepy/dataset/\n",
      "Galaxy Catalog Name: ../../src/tilepy/dataset/Gladeplus.h5\n",
      "Output Directory: ./output\n",
      "Pointings File: None\n",
      "============================================================\n"
     ]
    }
   ],
   "source": [
    "# Import main packages\n",
    "from tilepy.include.CampaignDefinition import ObservationParameters\n",
    "from tilepy.include.PointingTools import FilterGalaxies, LoadGalaxies, getdate\n",
    "\n",
    "skymap_name = \"https://gracedb.ligo.org/api/superevents/S240615dg/files/Bilby.offline0.multiorder.fits\"\n",
    "obsTime = getdate(\"2025-03-28 19:10:00\")\n",
    "pointingsFile = None\n",
    "\n",
    "# Path to the input datasets (where galaxy cat should be for GW case)\n",
    "datasetDir = \"../../src/tilepy/dataset/\"\n",
    "\n",
    "# Path to the output folder\n",
    "outDir = \"./output\"\n",
    "\n",
    "# Config file for the tiling scheduling\n",
    "cfgFile = \"../config/FollowupParameters_LST.ini\"\n",
    "\n",
    "galcatName = \"../../src/tilepy/dataset/Gladeplus.h5\"\n",
    "\n",
    "obspar = ObservationParameters()\n",
    "obspar.add_parsed_args(\n",
    "    skymap_name, obsTime, datasetDir, galcatName, outDir, pointingsFile\n",
    ")\n",
    "obspar.from_configfile(cfgFile)\n",
    "obspar.distCut = 1000000  # Otherwise it will think that we shouldnt use a catalog\n",
    "print(obspar)"
   ]
  },
  {
   "cell_type": "code",
   "execution_count": 62,
   "metadata": {},
   "outputs": [
    {
     "name": "stdout",
     "output_type": "stream",
     "text": [
      "Loading galaxy catalogue from ../../src/tilepy/dataset/Gladeplus.h5\n"
     ]
    }
   ],
   "source": [
    "catalog = \"../../src/tilepy/dataset/Gladeplus.h5\"\n",
    "cat = LoadGalaxies(catalog)"
   ]
  },
  {
   "cell_type": "code",
   "execution_count": 63,
   "metadata": {},
   "outputs": [
    {
     "data": {
      "text/html": [
       "<div><i>Table length=3553147</i>\n",
       "<table id=\"table13187852944\" class=\"table-striped table-bordered table-condensed\">\n",
       "<thead><tr><th>no_GLADE</th><th>RAJ2000</th><th>DEJ2000</th><th>Dist</th><th>Bmag</th></tr></thead>\n",
       "<thead><tr><th>uint32</th><th>float64</th><th>float64</th><th>float32</th><th>float32</th></tr></thead>\n",
       "<tr><td>1078404</td><td>209.660614</td><td>28.544758</td><td>307.755</td><td>17.04</td></tr>\n",
       "<tr><td>1078382</td><td>150.492096</td><td>27.61278</td><td>390.2103</td><td>17.033</td></tr>\n",
       "<tr><td>1078358</td><td>171.639633</td><td>26.348652</td><td>216.03331</td><td>16.671</td></tr>\n",
       "<tr><td>1078355</td><td>155.931229</td><td>26.182703</td><td>293.52972</td><td>16.539</td></tr>\n",
       "<tr><td>1078350</td><td>160.374588</td><td>25.971264</td><td>356.17014</td><td>16.558</td></tr>\n",
       "<tr><td>1078319</td><td>181.437912</td><td>24.259342</td><td>234.59818</td><td>16.125</td></tr>\n",
       "<tr><td>1078292</td><td>162.406204</td><td>22.255919</td><td>226.93306</td><td>16.213</td></tr>\n",
       "<tr><td>1078251</td><td>218.096588</td><td>19.566315</td><td>243.14256</td><td>17.153</td></tr>\n",
       "<tr><td>1078114</td><td>159.47876</td><td>10.863852</td><td>433.2221</td><td>16.338</td></tr>\n",
       "<tr><td>1078065</td><td>203.012299</td><td>7.717185</td><td>247.49423</td><td>16.934</td></tr>\n",
       "<tr><td>...</td><td>...</td><td>...</td><td>...</td><td>...</td></tr>\n",
       "<tr><td>20555283</td><td>333.90832819999997</td><td>38.009969899999994</td><td>180.01659</td><td>18.970552</td></tr>\n",
       "<tr><td>20554968</td><td>332.8740831</td><td>37.517107200000005</td><td>455.0752</td><td>19.20633</td></tr>\n",
       "<tr><td>20554837</td><td>333.2940975</td><td>37.3800771</td><td>169.05609</td><td>18.537142</td></tr>\n",
       "<tr><td>20554699</td><td>332.7534083</td><td>37.7907546</td><td>406.502</td><td>19.068687</td></tr>\n",
       "<tr><td>20554666</td><td>334.1571791</td><td>37.80708610000001</td><td>355.1456</td><td>18.378386</td></tr>\n",
       "<tr><td>20554374</td><td>334.3910396</td><td>-37.5879115</td><td>381.56363</td><td>19.181099</td></tr>\n",
       "<tr><td>20554174</td><td>333.199051</td><td>-37.5110586</td><td>255.28783</td><td>18.11603</td></tr>\n",
       "<tr><td>20554078</td><td>332.7263005</td><td>-38.0133004</td><td>452.06735</td><td>18.684393</td></tr>\n",
       "<tr><td>20554012</td><td>333.64259730000003</td><td>-37.967659999999995</td><td>107.82191</td><td>19.130539</td></tr>\n",
       "<tr><td>20553953</td><td>333.4828595</td><td>-37.8762555</td><td>381.21658</td><td>18.109917</td></tr>\n",
       "</table></div>"
      ],
      "text/plain": [
       "<Table length=3553147>\n",
       "no_GLADE      RAJ2000             DEJ2000          Dist      Bmag  \n",
       " uint32       float64             float64        float32   float32 \n",
       "-------- ------------------ ------------------- --------- ---------\n",
       " 1078404         209.660614           28.544758   307.755     17.04\n",
       " 1078382         150.492096            27.61278  390.2103    17.033\n",
       " 1078358         171.639633           26.348652 216.03331    16.671\n",
       " 1078355         155.931229           26.182703 293.52972    16.539\n",
       " 1078350         160.374588           25.971264 356.17014    16.558\n",
       " 1078319         181.437912           24.259342 234.59818    16.125\n",
       " 1078292         162.406204           22.255919 226.93306    16.213\n",
       " 1078251         218.096588           19.566315 243.14256    17.153\n",
       " 1078114          159.47876           10.863852  433.2221    16.338\n",
       " 1078065         203.012299            7.717185 247.49423    16.934\n",
       "     ...                ...                 ...       ...       ...\n",
       "20555283 333.90832819999997  38.009969899999994 180.01659 18.970552\n",
       "20554968        332.8740831  37.517107200000005  455.0752  19.20633\n",
       "20554837        333.2940975          37.3800771 169.05609 18.537142\n",
       "20554699        332.7534083          37.7907546   406.502 19.068687\n",
       "20554666        334.1571791   37.80708610000001  355.1456 18.378386\n",
       "20554374        334.3910396         -37.5879115 381.56363 19.181099\n",
       "20554174         333.199051         -37.5110586 255.28783  18.11603\n",
       "20554078        332.7263005         -38.0133004 452.06735 18.684393\n",
       "20554012 333.64259730000003 -37.967659999999995 107.82191 19.130539\n",
       "20553953        333.4828595         -37.8762555 381.21658 18.109917"
      ]
     },
     "execution_count": 63,
     "metadata": {},
     "output_type": "execute_result"
    }
   ],
   "source": [
    "cat"
   ]
  },
  {
   "cell_type": "code",
   "execution_count": 64,
   "metadata": {},
   "outputs": [],
   "source": [
    "from astropy import units as u\n",
    "\n",
    "coordinates = SkyCoord(\n",
    "    cat[\"RAJ2000\"] * u.deg, cat[\"DEJ2000\"] * u.deg, cat[\"Dist\"] * u.Mpc\n",
    ")"
   ]
  },
  {
   "cell_type": "code",
   "execution_count": 66,
   "metadata": {},
   "outputs": [
    {
     "name": "stderr",
     "output_type": "stream",
     "text": [
      "The filename is Bilby.offline0.multiorder.fits\n",
      "The file exists, it will be re-downloaded\n"
     ]
    },
    {
     "name": "stdout",
     "output_type": "stream",
     "text": [
      "Skymap is 3D\n"
     ]
    }
   ],
   "source": [
    "from tilepy.include.MapManagement import SkyMap, create_map_reader\n",
    "\n",
    "raw_map = create_map_reader(obspar)\n",
    "skymap = SkyMap(obspar, raw_map)\n",
    "nside = obspar.HRnside\n",
    "prob = skymap.getMap(\"prob\", obspar.HRnside)\n",
    "\n",
    "if skymap.is3D:\n",
    "    print(\"Skymap is 3D\")\n",
    "else:\n",
    "    print(\"Skymap is 2D\")\n",
    "\n",
    "# correlate GW map with galaxy catalog, retrieve ordered list\n",
    "cat = skymap.computeGalaxyProbability(cat)\n",
    "tGals0 = FilterGalaxies(cat, obspar.minimumProbCutForCatalogue)"
   ]
  },
  {
   "cell_type": "markdown",
   "metadata": {},
   "source": []
  },
  {
   "cell_type": "code",
   "execution_count": 79,
   "metadata": {},
   "outputs": [],
   "source": [
    "import numpy as np\n",
    "\n",
    "# Filter for dp_dV > 2e-15\n",
    "\n",
    "filtered = cat[cat[\"dp_dV\"] > 2e-15]\n",
    "\n",
    "# Sort in descending order\n",
    "sorted_filtered = filtered[np.argsort(filtered[\"dp_dV\"])[::-1]]\n",
    "\n",
    "# Select top 10\n",
    "top10 = sorted_filtered[:10]"
   ]
  },
  {
   "cell_type": "code",
   "execution_count": 80,
   "metadata": {},
   "outputs": [
    {
     "data": {
      "text/html": [
       "<div><i>Table length=10</i>\n",
       "<table id=\"table6436449232\" class=\"table-striped table-bordered table-condensed\">\n",
       "<thead><tr><th>no_GLADE</th><th>RAJ2000</th><th>DEJ2000</th><th>Dist</th><th>Bmag</th><th>dp_dV</th></tr></thead>\n",
       "<thead><tr><th></th><th></th><th></th><th></th><th></th><th>1 / Mpc2</th></tr></thead>\n",
       "<thead><tr><th>uint32</th><th>float64</th><th>float64</th><th>float32</th><th>float32</th><th>float64</th></tr></thead>\n",
       "<tr><td>179043</td><td>10.432732</td><td>46.029392</td><td>490.21237</td><td>17.24</td><td>1.4973702684795808e-14</td></tr>\n",
       "<tr><td>3406282</td><td>10.1923808</td><td>45.2480445</td><td>482.1057</td><td>19.905697</td><td>1.0783019827266007e-14</td></tr>\n",
       "<tr><td>3407467</td><td>10.481994199999999</td><td>45.981254799999995</td><td>360.9565</td><td>19.660616</td><td>9.131025281980618e-15</td></tr>\n",
       "<tr><td>3407479</td><td>10.2857756</td><td>46.0894721</td><td>443.26828</td><td>18.51903</td><td>8.735329455160977e-15</td></tr>\n",
       "<tr><td>3407499</td><td>10.3471844</td><td>46.04116679999999</td><td>429.48743</td><td>19.908466</td><td>8.055771979866971e-15</td></tr>\n",
       "<tr><td>3272839</td><td>9.5606882</td><td>45.4293756</td><td>491.4394</td><td>18.74926</td><td>7.958657794927129e-15</td></tr>\n",
       "<tr><td>3406758</td><td>10.007826099999999</td><td>45.5616666</td><td>496.76895</td><td>18.890467</td><td>7.667408260422347e-15</td></tr>\n",
       "<tr><td>3406920</td><td>9.6782758</td><td>45.508192</td><td>457.45877</td><td>19.700712</td><td>7.235365220330726e-15</td></tr>\n",
       "<tr><td>3406861</td><td>9.759170300000001</td><td>45.4640422</td><td>460.65753</td><td>18.85283</td><td>7.226102787689732e-15</td></tr>\n",
       "<tr><td>3407163</td><td>10.4518856</td><td>45.85846179999999</td><td>283.5222</td><td>18.236847</td><td>7.201533017715874e-15</td></tr>\n",
       "</table></div>"
      ],
      "text/plain": [
       "<Table length=10>\n",
       "no_GLADE      RAJ2000       ...    Bmag           dp_dV         \n",
       "                            ...                  1 / Mpc2       \n",
       " uint32       float64       ...  float32         float64        \n",
       "-------- ------------------ ... --------- ----------------------\n",
       "  179043          10.432732 ...     17.24 1.4973702684795808e-14\n",
       " 3406282         10.1923808 ... 19.905697 1.0783019827266007e-14\n",
       " 3407467 10.481994199999999 ... 19.660616  9.131025281980618e-15\n",
       " 3407479         10.2857756 ...  18.51903  8.735329455160977e-15\n",
       " 3407499         10.3471844 ... 19.908466  8.055771979866971e-15\n",
       " 3272839          9.5606882 ...  18.74926  7.958657794927129e-15\n",
       " 3406758 10.007826099999999 ... 18.890467  7.667408260422347e-15\n",
       " 3406920          9.6782758 ... 19.700712  7.235365220330726e-15\n",
       " 3406861  9.759170300000001 ...  18.85283  7.226102787689732e-15\n",
       " 3407163         10.4518856 ... 18.236847  7.201533017715874e-15"
      ]
     },
     "execution_count": 80,
     "metadata": {},
     "output_type": "execute_result"
    }
   ],
   "source": [
    "top10"
   ]
  }
 ],
 "metadata": {
  "kernelspec": {
   "display_name": "tilepy2",
   "language": "python",
   "name": "python3"
  },
  "language_info": {
   "codemirror_mode": {
    "name": "ipython",
    "version": 3
   },
   "file_extension": ".py",
   "mimetype": "text/x-python",
   "name": "python",
   "nbconvert_exporter": "python",
   "pygments_lexer": "ipython3",
   "version": "3.11.9"
  }
 },
 "nbformat": 4,
 "nbformat_minor": 4
}
